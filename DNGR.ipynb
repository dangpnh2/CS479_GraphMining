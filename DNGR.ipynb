{
 "cells": [
  {
   "cell_type": "code",
   "execution_count": 1,
   "metadata": {},
   "outputs": [
    {
     "ename": "ModuleNotFoundError",
     "evalue": "No module named 'tensorflow'",
     "output_type": "error",
     "traceback": [
      "\u001b[1;31m---------------------------------------------------------------------------\u001b[0m",
      "\u001b[1;31mModuleNotFoundError\u001b[0m                       Traceback (most recent call last)",
      "\u001b[1;32m<ipython-input-1-26a9ee1dc281>\u001b[0m in \u001b[0;36m<module>\u001b[1;34m\u001b[0m\n\u001b[0;32m      2\u001b[0m \u001b[1;32mimport\u001b[0m \u001b[0mnetworkx\u001b[0m \u001b[1;32mas\u001b[0m \u001b[0mnx\u001b[0m\u001b[1;33m\u001b[0m\u001b[1;33m\u001b[0m\u001b[0m\n\u001b[0;32m      3\u001b[0m \u001b[1;32mimport\u001b[0m \u001b[0mutils\u001b[0m \u001b[1;32mas\u001b[0m \u001b[0mut\u001b[0m\u001b[1;33m\u001b[0m\u001b[1;33m\u001b[0m\u001b[0m\n\u001b[1;32m----> 4\u001b[1;33m \u001b[1;32mimport\u001b[0m \u001b[0mtensorflow\u001b[0m \u001b[1;32mas\u001b[0m \u001b[0mtf\u001b[0m\u001b[1;33m\u001b[0m\u001b[1;33m\u001b[0m\u001b[0m\n\u001b[0m\u001b[0;32m      5\u001b[0m \u001b[1;32mimport\u001b[0m \u001b[0mmatplotlib\u001b[0m\u001b[1;33m.\u001b[0m\u001b[0mpyplot\u001b[0m \u001b[1;32mas\u001b[0m \u001b[0mplt\u001b[0m\u001b[1;33m\u001b[0m\u001b[1;33m\u001b[0m\u001b[0m\n\u001b[0;32m      6\u001b[0m \u001b[1;32mfrom\u001b[0m \u001b[0mkeras\u001b[0m\u001b[1;33m.\u001b[0m\u001b[0mlayers\u001b[0m \u001b[1;32mimport\u001b[0m \u001b[0mInput\u001b[0m\u001b[1;33m,\u001b[0m \u001b[0mDense\u001b[0m\u001b[1;33m,\u001b[0m \u001b[0mnoise\u001b[0m\u001b[1;33m\u001b[0m\u001b[1;33m\u001b[0m\u001b[0m\n",
      "\u001b[1;31mModuleNotFoundError\u001b[0m: No module named 'tensorflow'"
     ]
    }
   ],
   "source": [
    "import numpy as np\n",
    "import networkx as nx\n",
    "import utils as ut\n",
    "import tensorflow as tf\n",
    "import matplotlib.pyplot as plt\n",
    "from keras.layers import Input, Dense, noise\n",
    "from keras.models import Model"
   ]
  },
  {
   "cell_type": "code",
   "execution_count": 2,
   "metadata": {},
   "outputs": [],
   "source": [
    "#Stage 1 -  Random Surfing\n",
    "def random_surf(cosine_sim_matrix, num_hops, alpha):\n",
    "    \n",
    "    num_nodes = len(cosine_sim_matrix)\n",
    "    \n",
    "    adj_matrix = ut.scale_sim_matrix(cosine_sim_matrix)\n",
    "    P0 = np.eye(num_nodes, dtype='float32')\n",
    "    P = np.eye(num_nodes, dtype='float32')\n",
    "    A = np.zeros((num_nodes,num_nodes),dtype='float32')\n",
    "    \n",
    "    for i in range(num_hops):\n",
    "        P = (alpha*np.dot(P,adj_matrix)) + ((1-alpha)*P0)\n",
    "        A = A + P\n",
    "\n",
    "    return A"
   ]
  },
  {
   "cell_type": "code",
   "execution_count": 3,
   "metadata": {},
   "outputs": [],
   "source": [
    "#Stage 2 - PPMI Matrix\n",
    "def PPMI_matrix(A):\n",
    "    \n",
    "    num_nodes = len(A)\n",
    "    A = ut.scale_sim_matrix(A)\n",
    "    \n",
    "    row_sum = np.sum(A, axis=1).reshape(num_nodes,1)\n",
    "    col_sum = np.sum(A, axis=0).reshape(1,num_nodes)\n",
    "    \n",
    "    D = np.sum(col_sum)\n",
    "    PPMI = np.log(np.divide(np.multiply(D,A),np.dot(row_sum,col_sum)))\n",
    "    #Gotta use numpy for division, else it runs into divide by zero error, now it'll store inf or -inf\n",
    "    #All Diag elements will have either inf or -inf.\n",
    "    #Get PPMI by making negative values to 0\n",
    "    PPMI[np.isinf(PPMI)] = 0.0\n",
    "    PPMI[np.isneginf(PPMI)] = 0.0\n",
    "    PPMI[PPMI<0.0] = 0.0\n",
    "    \n",
    "    return PPMI"
   ]
  },
  {
   "cell_type": "code",
   "execution_count": 4,
   "metadata": {},
   "outputs": [],
   "source": [
    "\n",
    "def sdae(PPMI, hidden_neurons):\n",
    "    \n",
    "    inp = Input(shape=(PPMI.shape[1],))\n",
    "    enc = noise.GaussianNoise(0.2)(inp)\n",
    "    \n",
    "    for neurons in hidden_neurons:\n",
    "        enc = Dense(neurons, activation = 'relu')(enc)\n",
    "    \n",
    "    dec = Dense(hidden_neurons[-2], activation = 'relu')(enc)\n",
    "    for neurons in hidden_neurons[:-3][::-1]:\n",
    "        dec = Dense(neurons, activation = 'relu')(dec)\n",
    "    dec = Dense(PPMI.shape[1], activation='relu')(dec)\n",
    "    \n",
    "    auto_enc = Model(inputs=inp, outputs=dec)\n",
    "    auto_enc.compile(optimizer='adam', loss='mse')\n",
    "    \n",
    "    auto_enc.fit(x=PPMI, y=PPMI, batch_size=10, epochs=5)\n",
    "    \n",
    "    encoder = Model(inputs=inp, outputs=enc)\n",
    "    encoder.compile(optimizer='adam', loss='mse')\n",
    "    embeddings = encoder.predict(PPMI)\n",
    "    "
   ]
  },
  {
   "cell_type": "code",
   "execution_count": 5,
   "metadata": {},
   "outputs": [
    {
     "name": "stderr",
     "output_type": "stream",
     "text": [
      "E:\\anaconda\\envs\\py36\\lib\\site-packages\\ipykernel_launcher.py:11: RuntimeWarning: divide by zero encountered in log\n",
      "  # This is added back by InteractiveShellApp.init_path()\n"
     ]
    },
    {
     "ename": "NameError",
     "evalue": "name 'Input' is not defined",
     "output_type": "error",
     "traceback": [
      "\u001b[1;31m---------------------------------------------------------------------------\u001b[0m",
      "\u001b[1;31mNameError\u001b[0m                                 Traceback (most recent call last)",
      "\u001b[1;32m<ipython-input-5-952014de003c>\u001b[0m in \u001b[0;36m<module>\u001b[1;34m\u001b[0m\n\u001b[0;32m     10\u001b[0m \u001b[0mPPMI\u001b[0m \u001b[1;33m=\u001b[0m \u001b[0mPPMI_matrix\u001b[0m\u001b[1;33m(\u001b[0m\u001b[0mA\u001b[0m\u001b[1;33m)\u001b[0m\u001b[1;33m\u001b[0m\u001b[1;33m\u001b[0m\u001b[0m\n\u001b[0;32m     11\u001b[0m \u001b[1;33m\u001b[0m\u001b[0m\n\u001b[1;32m---> 12\u001b[1;33m \u001b[0membeddings\u001b[0m \u001b[1;33m=\u001b[0m \u001b[0msdae\u001b[0m\u001b[1;33m(\u001b[0m\u001b[0mPPMI\u001b[0m\u001b[1;33m,\u001b[0m \u001b[0mhidden_neurons\u001b[0m\u001b[1;33m)\u001b[0m\u001b[1;33m\u001b[0m\u001b[1;33m\u001b[0m\u001b[0m\n\u001b[0m\u001b[0;32m     13\u001b[0m \u001b[1;33m\u001b[0m\u001b[0m\n\u001b[0;32m     14\u001b[0m \u001b[1;31m#Save embeddings\u001b[0m\u001b[1;33m\u001b[0m\u001b[1;33m\u001b[0m\u001b[1;33m\u001b[0m\u001b[0m\n",
      "\u001b[1;32m<ipython-input-4-028cc640c1de>\u001b[0m in \u001b[0;36msdae\u001b[1;34m(PPMI, hidden_neurons)\u001b[0m\n\u001b[0;32m      1\u001b[0m \u001b[1;32mdef\u001b[0m \u001b[0msdae\u001b[0m\u001b[1;33m(\u001b[0m\u001b[0mPPMI\u001b[0m\u001b[1;33m,\u001b[0m \u001b[0mhidden_neurons\u001b[0m\u001b[1;33m)\u001b[0m\u001b[1;33m:\u001b[0m\u001b[1;33m\u001b[0m\u001b[1;33m\u001b[0m\u001b[0m\n\u001b[0;32m      2\u001b[0m \u001b[1;33m\u001b[0m\u001b[0m\n\u001b[1;32m----> 3\u001b[1;33m     \u001b[0minp\u001b[0m \u001b[1;33m=\u001b[0m \u001b[0mInput\u001b[0m\u001b[1;33m(\u001b[0m\u001b[0mshape\u001b[0m\u001b[1;33m=\u001b[0m\u001b[1;33m(\u001b[0m\u001b[0mPPMI\u001b[0m\u001b[1;33m.\u001b[0m\u001b[0mshape\u001b[0m\u001b[1;33m[\u001b[0m\u001b[1;36m1\u001b[0m\u001b[1;33m]\u001b[0m\u001b[1;33m,\u001b[0m\u001b[1;33m)\u001b[0m\u001b[1;33m)\u001b[0m\u001b[1;33m\u001b[0m\u001b[1;33m\u001b[0m\u001b[0m\n\u001b[0m\u001b[0;32m      4\u001b[0m     \u001b[0menc\u001b[0m \u001b[1;33m=\u001b[0m \u001b[0mnoise\u001b[0m\u001b[1;33m.\u001b[0m\u001b[0mGaussianNoise\u001b[0m\u001b[1;33m(\u001b[0m\u001b[1;36m0.2\u001b[0m\u001b[1;33m)\u001b[0m\u001b[1;33m(\u001b[0m\u001b[0minp\u001b[0m\u001b[1;33m)\u001b[0m\u001b[1;33m\u001b[0m\u001b[1;33m\u001b[0m\u001b[0m\n\u001b[0;32m      5\u001b[0m \u001b[1;33m\u001b[0m\u001b[0m\n",
      "\u001b[1;31mNameError\u001b[0m: name 'Input' is not defined"
     ]
    }
   ],
   "source": [
    "group = 'NG3'\n",
    "max_hops = 2\n",
    "alpha = 0.98\n",
    "hidden_neurons = [512,256,128]\n",
    "\n",
    "text_corpus, file_names, target = ut.read_data(group)\n",
    "cosine_sim_matrix = ut.get_cosine_sim_matrix(text_corpus)\n",
    "\n",
    "A = random_surf(cosine_sim_matrix, max_hops, alpha)\n",
    "PPMI = PPMI_matrix(A)\n",
    "\n",
    "embeddings = sdae(PPMI, hidden_neurons)\n",
    "\n",
    "#Save embeddings\n",
    "\n",
    "#Metrics\n",
    "ut.compute_metrics(embeddings, target)\n",
    "\n",
    "#visualize embeddings using tsne\n",
    "ut.visualize_TSNE(embeddings, target)\n",
    "plt.show()"
   ]
  },
  {
   "cell_type": "code",
   "execution_count": null,
   "metadata": {},
   "outputs": [],
   "source": []
  }
 ],
 "metadata": {
  "kernelspec": {
   "display_name": "Python 3",
   "language": "python",
   "name": "python3"
  },
  "language_info": {
   "codemirror_mode": {
    "name": "ipython",
    "version": 3
   },
   "file_extension": ".py",
   "mimetype": "text/x-python",
   "name": "python",
   "nbconvert_exporter": "python",
   "pygments_lexer": "ipython3",
   "version": "3.6.10"
  }
 },
 "nbformat": 4,
 "nbformat_minor": 4
}
